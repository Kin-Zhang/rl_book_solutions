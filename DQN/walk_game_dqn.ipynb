{
  "nbformat": 4,
  "nbformat_minor": 0,
  "metadata": {
    "colab": {
      "name": "wlkgame dqn.ipynb",
      "provenance": [],
      "include_colab_link": true
    },
    "kernelspec": {
      "name": "python3",
      "display_name": "Python 3"
    },
    "accelerator": "GPU"
  },
  "cells": [
    {
      "cell_type": "markdown",
      "metadata": {
        "id": "view-in-github",
        "colab_type": "text"
      },
      "source": [
        "<a href=\"https://colab.research.google.com/github/enakai00/rl_book_solutions/blob/master/DQN/walk_game_dqn.ipynb\" target=\"_parent\"><img src=\"https://colab.research.google.com/assets/colab-badge.svg\" alt=\"Open In Colab\"/></a>"
      ]
    },
    {
      "cell_type": "code",
      "metadata": {
        "id": "bzsWr-VHKQ_x",
        "colab_type": "code",
        "outputId": "90c23419-aff4-4398-c0f7-465d58e750b6",
        "colab": {
          "base_uri": "https://localhost:8080/",
          "height": 34
        }
      },
      "source": [
        "%tensorflow_version 2.x "
      ],
      "execution_count": 1,
      "outputs": [
        {
          "output_type": "stream",
          "text": [
            "TensorFlow 2.x selected.\n"
          ],
          "name": "stdout"
        }
      ]
    },
    {
      "cell_type": "code",
      "metadata": {
        "id": "uxl0MUcjZS37",
        "colab_type": "code",
        "colab": {}
      },
      "source": [
        "import numpy as np\n",
        "#from numpy import random\n",
        "from time import sleep\n",
        "import random\n",
        "import copy\n",
        "\n",
        "import tensorflow as tf\n",
        "from tensorflow.keras import layers, models, initializers\n",
        "\n",
        "from IPython.display import clear_output"
      ],
      "execution_count": 0,
      "outputs": []
    },
    {
      "cell_type": "code",
      "metadata": {
        "id": "dsMHAlFTgGCs",
        "colab_type": "code",
        "colab": {}
      },
      "source": [
        "field_img = '''\n",
        "##############\n",
        "#            #\n",
        "#            #\n",
        "#            #\n",
        "#            #\n",
        "#            #\n",
        "#            #\n",
        "#            #\n",
        "#            #\n",
        "#            #\n",
        "#            #\n",
        "#            #\n",
        "#            #\n",
        "##############\n",
        "'''\n",
        "def get_field(field_img):\n",
        "  x_max = max(map(len, field_img.split('\\n')))\n",
        "  field = []\n",
        "  for line in field_img.split('\\n'):\n",
        "    if line == '':\n",
        "      continue \n",
        "    line += ' ' * x_max\n",
        "    field.append(list(line)[:x_max])\n",
        "\n",
        "  return np.array(field)"
      ],
      "execution_count": 0,
      "outputs": []
    },
    {
      "cell_type": "code",
      "metadata": {
        "id": "KfaCACjCaMqF",
        "colab_type": "code",
        "colab": {}
      },
      "source": [
        "class Environ:\n",
        "  def __init__(self): \n",
        "    self.actions = [(0, 1), (1, 0), (0, -1), (-1, 0)]\n",
        "    self.model = self.build_model()\n",
        "    self.restart()\n",
        "    self.experience_memory = []\n",
        "\n",
        "\n",
        "  def restart(self):\n",
        "    self.field = get_field(field_img)\n",
        "    for _ in range(10):\n",
        "      y = random.randint(1, len(self.field)-2)\n",
        "      x = random.randint(1, len(self.field[0])-2)\n",
        "      self.field[y][x] = 'x'\n",
        "    self.x = random.randint(1, len(self.field)-2)\n",
        "    self.y = random.randint(1, len(self.field[0])-2)\n",
        "    self.length = 1\n",
        "\n",
        "\n",
        "  def build_model(self):\n",
        "    cnn_input = layers.Input(shape=(14, 14, 2), name='cnn_input')\n",
        "    cnn = layers.Conv2D(8, (5, 5), padding='same',\n",
        "                        input_shape=(14, 14, 2),\n",
        "                        kernel_initializer=initializers.TruncatedNormal(),\n",
        "                        use_bias=True, activation='relu',\n",
        "                        name='conv_filter')(cnn_input)\n",
        "    cnn = layers.Flatten(name='flatten')(cnn)\n",
        "    action_input = layers.Input(shape=(len(self.actions),), name='action_input')\n",
        "\n",
        "    combined = layers.concatenate([cnn, action_input], name='combined')\n",
        "    combined = layers.Dense(2048, activation='relu',\n",
        "                        kernel_initializer=initializers.TruncatedNormal(),\n",
        "                        name='hidden1')(combined)\n",
        "    combined = layers.Dense(1024, activation='relu',\n",
        "                        kernel_initializer=initializers.TruncatedNormal(),\n",
        "                        name='hidden2')(combined)\n",
        "    q_value = layers.Dense(1, activation='relu', name='q_value')(combined)\n",
        "\n",
        "    model = models.Model(inputs=[cnn_input, action_input], outputs=q_value)\n",
        "    model.compile(optimization='adam', loss='mse')\n",
        "    return model\n",
        "\n",
        "\n",
        "  def add_experience(self, pre_state, action, reward, post_state):\n",
        "    self.experience_memory.append((pre_state, action, reward, post_state))\n",
        "    if len(self.experience_memory) > 10000:\n",
        "      i = random.randint(0, int(len(self.experience_memory)/2))\n",
        "      self.experience_memory.pop(i)\n",
        "\n",
        "\n",
        "  def train_model(self, samples=300):\n",
        "    if len(self.experience_memory) < samples:\n",
        "      return\n",
        "    examples = self.experience_memory[-samples:]\n",
        "    examples += random.sample(self.experience_memory, samples)\n",
        "    random.shuffle(examples)\n",
        "\n",
        "    states, actions, labels = [], [], []\n",
        "    for pre_state, action, reward, post_state in examples:\n",
        "      states.append(np.array(pre_state))\n",
        "      action_onehot = np.zeros(len(self.actions))\n",
        "      action_onehot[action] = 1\n",
        "      actions.append(action_onehot)\n",
        "      if not post_state:  # Terminal state\n",
        "        next_q = 0\n",
        "      else:\n",
        "        _, next_q = self.get_optimal_action(post_state)\n",
        "      labels.append(np.array(reward + next_q))\n",
        "    self.model.fit([states, actions], np.array(labels),\n",
        "                    batch_size=50, epochs=100)\n",
        "\n",
        "\n",
        "  def get_optimal_action(self, state=None):\n",
        "    if not state:\n",
        "      state = self.get_state()\n",
        "    states, actions = [], []\n",
        "    for action in range(len(self.actions)):\n",
        "      action_onehot = np.zeros(len(self.actions))\n",
        "      action_onehot[action] = 1\n",
        "      actions.append(action_onehot)\n",
        "      states.append(np.array(state))\n",
        "  \n",
        "    q_values = self.model.predict([states, actions])\n",
        "    optimal_action = np.argmax(q_values)\n",
        "    return optimal_action, q_values[optimal_action][0]\n",
        "\n",
        "\n",
        "  def get_optimal_action_with_search(self):\n",
        "    q_values = []\n",
        "    for action in range(len(self.actions)):\n",
        "      _field = copy.copy(self.field)\n",
        "      _x, _y = self.x, self.y\n",
        "      _length = self.length\n",
        "      result = self.move(action)\n",
        "      if not result:\n",
        "        q_values.append(-10**10)\n",
        "      else:\n",
        "        _, optimal_q_value = self.get_optimal_action()\n",
        "        q_values.append(optimal_q_value)\n",
        "      self.field = _field\n",
        "      self.x, self.y = _x, _y\n",
        "      self.length = _length\n",
        "\n",
        "    optimal_action = np.argmax(q_values)\n",
        "    return optimal_action\n",
        "\n",
        "\n",
        "  def get_action(self, epsilon):\n",
        "    if random.random() < epsilon:\n",
        "      action = random.randint(0, len(self.actions)-1)\n",
        "    else:\n",
        "      action, _ = self.get_optimal_action()\n",
        "    return action\n",
        "\n",
        "\n",
        "  def get_state(self):\n",
        "    walls = list(map(lambda line: \n",
        "                     list(map(lambda c:\n",
        "                              0.0 if c == ' ' else 1.0, line)), self.field))\n",
        "    walker = np.zeros((14, 14))\n",
        "    walker[self.y][self.x] = 1.0\n",
        "    return [list(zip(a, b)) for a, b in zip(walls, walker)]\n",
        "\n",
        "\n",
        "  def show_environment(self):\n",
        "    display = copy.copy(self.field)\n",
        "    display[self.y][self.x] = '*'\n",
        "    sleep(0.2)\n",
        "    clear_output(wait=True)\n",
        "    for line in display:\n",
        "      print (''.join(line))\n",
        "    print ('length: {}'.format(self.length))\n",
        "\n",
        "\n",
        "  def move(self, action):\n",
        "    dx, dy = self.actions[action]\n",
        "    self.field[self.y][self.x] = '+'\n",
        "    self.x += dx\n",
        "    self.y += dy\n",
        "    self.length += 1\n",
        "    if self.field[self.y][self.x] != ' ':\n",
        "      return False\n",
        "    return True"
      ],
      "execution_count": 0,
      "outputs": []
    },
    {
      "cell_type": "code",
      "metadata": {
        "id": "zYMjBdUb-q3m",
        "colab_type": "code",
        "colab": {}
      },
      "source": [
        "def trial(env, num=200, epsilon=0.1, eval=False, search=False):\n",
        "  if eval:\n",
        "    epsilon = 0.0\n",
        "  for _ in range(num):\n",
        "    pre_state = env.get_state()\n",
        "    if search:\n",
        "      action = env.get_optimal_action_with_search()\n",
        "    else:\n",
        "      action = env.get_action(epsilon)\n",
        "    result = env.move(action)\n",
        "    if eval:\n",
        "      env.show_environment()\n",
        "      if not result:\n",
        "        return\n",
        "    else:\n",
        "      if result:\n",
        "        r = 1.0\n",
        "        post_state = env.get_state()\n",
        "      else:\n",
        "        r = 0.0\n",
        "        post_state = None # Terminal state\n",
        "      env.add_experience(pre_state, action, r, post_state)\n",
        "      if not result:\n",
        "        env.restart()\n",
        "      print('.', end='')"
      ],
      "execution_count": 0,
      "outputs": []
    },
    {
      "cell_type": "code",
      "metadata": {
        "id": "br4xqDZ2s5sN",
        "colab_type": "code",
        "colab": {
          "base_uri": "https://localhost:8080/",
          "height": 442
        },
        "outputId": "38831e16-08d4-437b-ed98-85aa5866cc96"
      },
      "source": [
        "env = Environ()\n",
        "env.model.summary()"
      ],
      "execution_count": 12,
      "outputs": [
        {
          "output_type": "stream",
          "text": [
            "Model: \"model_1\"\n",
            "__________________________________________________________________________________________________\n",
            "Layer (type)                    Output Shape         Param #     Connected to                     \n",
            "==================================================================================================\n",
            "cnn_input (InputLayer)          [(None, 14, 14, 2)]  0                                            \n",
            "__________________________________________________________________________________________________\n",
            "conv_filter (Conv2D)            (None, 14, 14, 8)    408         cnn_input[0][0]                  \n",
            "__________________________________________________________________________________________________\n",
            "flatten (Flatten)               (None, 1568)         0           conv_filter[0][0]                \n",
            "__________________________________________________________________________________________________\n",
            "action_input (InputLayer)       [(None, 4)]          0                                            \n",
            "__________________________________________________________________________________________________\n",
            "combined (Concatenate)          (None, 1572)         0           flatten[0][0]                    \n",
            "                                                                 action_input[0][0]               \n",
            "__________________________________________________________________________________________________\n",
            "hidden1 (Dense)                 (None, 2048)         3221504     combined[0][0]                   \n",
            "__________________________________________________________________________________________________\n",
            "hidden2 (Dense)                 (None, 1024)         2098176     hidden1[0][0]                    \n",
            "__________________________________________________________________________________________________\n",
            "q_value (Dense)                 (None, 1)            1025        hidden2[0][0]                    \n",
            "==================================================================================================\n",
            "Total params: 5,321,113\n",
            "Trainable params: 5,321,113\n",
            "Non-trainable params: 0\n",
            "__________________________________________________________________________________________________\n"
          ],
          "name": "stdout"
        }
      ]
    },
    {
      "cell_type": "code",
      "metadata": {
        "id": "CRlU2kCNUpf4",
        "colab_type": "code",
        "colab": {}
      },
      "source": [
        "from google.colab import drive\n",
        "drive.mount('/content/gdrive')\n",
        "env.model = models.load_model('/content/gdrive/My Drive/dqn_cnn.hd5')"
      ],
      "execution_count": 0,
      "outputs": []
    },
    {
      "cell_type": "code",
      "metadata": {
        "id": "_HrIZN15oFrO",
        "colab_type": "code",
        "colab": {
          "base_uri": "https://localhost:8080/",
          "height": 289
        },
        "outputId": "2843c416-0b33-4931-8d2c-8b2b5d8ac30b"
      },
      "source": [
        "for _ in range(21):\n",
        "  trial(env, 200, epsilon=0.2)\n",
        "  env.train_model(200)\n",
        "\n",
        "  trial(env, 200, eval=True)\n",
        "  print(_)\n",
        "  if _ % 10 == 0:\n",
        "    env.model.save('/content/gdrive/My Drive/dqn_cnn.hd5', save_format='h5')"
      ],
      "execution_count": 14,
      "outputs": [
        {
          "output_type": "stream",
          "text": [
            "#*############\n",
            "#+   x       #\n",
            "#+x          #\n",
            "#+       x   #\n",
            "#++++   ++++ #\n",
            "#   +x     ++#\n",
            "#  x+      ++#\n",
            "# x +++   ++ #\n",
            "#   x ++x +  #\n",
            "#      ++++  #\n",
            "#            #\n",
            "#          x #\n",
            "#            #\n",
            "##############\n",
            "length: 30\n",
            "20\n"
          ],
          "name": "stdout"
        }
      ]
    },
    {
      "cell_type": "code",
      "metadata": {
        "id": "nCTGk8OEx60g",
        "colab_type": "code",
        "colab": {
          "base_uri": "https://localhost:8080/",
          "height": 272
        },
        "outputId": "c57d2dbd-fd02-4ae9-e4ce-6318f74ab05d"
      },
      "source": [
        "trial(env, eval=True, search=False)"
      ],
      "execution_count": 20,
      "outputs": [
        {
          "output_type": "stream",
          "text": [
            "##############\n",
            "#  x         #\n",
            "#x       ++ x#\n",
            "#  x     +*  #\n",
            "# x     x +  #\n",
            "#         +  #\n",
            "#   x++++ +  #\n",
            "#    +  +++x #\n",
            "#    ++ +++  #\n",
            "#     + + +  #\n",
            "#    x+  ++  #\n",
            "#  x  ++++   #\n",
            "#     ++     #\n",
            "##############\n",
            "length: 33\n"
          ],
          "name": "stdout"
        }
      ]
    },
    {
      "cell_type": "code",
      "metadata": {
        "id": "1yrCGMs02Rxe",
        "colab_type": "code",
        "colab": {
          "base_uri": "https://localhost:8080/",
          "height": 272
        },
        "outputId": "80f5b9e9-566f-4147-ab22-dbc39c6d2ae4"
      },
      "source": [
        "trial(env, eval=True, search=True)"
      ],
      "execution_count": 19,
      "outputs": [
        {
          "output_type": "stream",
          "text": [
            "##############\n",
            "#  xx +++ +++#\n",
            "#    ++ +++x+#\n",
            "#   ++ ++++ +#\n",
            "# +++  +  + +#\n",
            "#++ xx++  +++#\n",
            "#+    +   +++#\n",
            "#+  +++   +++#\n",
            "#++++  x  +*+#\n",
            "#        ++  #\n",
            "#    x x  x  #\n",
            "#         x  #\n",
            "#            #\n",
            "##############\n",
            "length: 54\n"
          ],
          "name": "stdout"
        }
      ]
    }
  ]
}