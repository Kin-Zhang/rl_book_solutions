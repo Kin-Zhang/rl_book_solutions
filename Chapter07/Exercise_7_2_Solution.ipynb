{
  "nbformat": 4,
  "nbformat_minor": 0,
  "metadata": {
    "colab": {
      "name": "Exercise 7.2: Solution.ipynb",
      "version": "0.3.2",
      "provenance": [],
      "collapsed_sections": [],
      "include_colab_link": true
    },
    "kernelspec": {
      "name": "python3",
      "display_name": "Python 3"
    }
  },
  "cells": [
    {
      "cell_type": "markdown",
      "metadata": {
        "id": "view-in-github",
        "colab_type": "text"
      },
      "source": [
        "<a href=\"https://colab.research.google.com/github/enakai00/rl_book_solutions/blob/master/Chapter07/Exercise_7_2_Solution.ipynb\" target=\"_parent\"><img src=\"https://colab.research.google.com/assets/colab-badge.svg\" alt=\"Open In Colab\"/></a>"
      ]
    },
    {
      "cell_type": "markdown",
      "metadata": {
        "id": "Oq-cT1VHizgz",
        "colab_type": "text"
      },
      "source": [
        "# Exercise 7.2 : Solution"
      ]
    },
    {
      "cell_type": "code",
      "metadata": {
        "id": "MWOOgNK0ygdC",
        "colab_type": "code",
        "colab": {}
      },
      "source": [
        "import numpy as np\n",
        "from numpy import random\n",
        "from pandas import DataFrame"
      ],
      "execution_count": 0,
      "outputs": []
    },
    {
      "cell_type": "code",
      "metadata": {
        "id": "CBHd9TZXzcEo",
        "colab_type": "code",
        "colab": {}
      },
      "source": [
        "class Car:\n",
        "  def __init__(self, x=0, y=3):\n",
        "    self.path = []\n",
        "    self.actions = [(0, 1), (1, 0), (0, -1), (-1, 0),\n",
        "                    (1, 1), (1, -1), (-1, -1), (-1, 1)]\n",
        "    self.episodes = [0]\n",
        "    self.q = {}\n",
        "    self.v = {}\n",
        "    self.restart(x, y)\n",
        "\n",
        "  def restart(self, x=0, y=3):\n",
        "    self.x, self.y = x, y\n",
        "    self.path = []\n",
        "\n",
        "  def get_state(self):\n",
        "    return self.x, self.y\n",
        "\n",
        "  def show_path(self):\n",
        "    result = [[' ' for x in range(10)] for y in range(7)]\n",
        "    for c, (x, y, a) in enumerate(self.path):\n",
        "      result[y][x] = str(c)[-1]\n",
        "    result[3][7] = 'G'\n",
        "    return result     \n",
        "\n",
        "  def add_episode(self, c=0):\n",
        "    self.episodes.append(self.episodes[-1]+c)\n",
        "\n",
        "  def move(self, action, noise):\n",
        "    self.path.append((self.x, self.y, action))\n",
        "    vx, vy = self.actions[action]\n",
        "    if self.x >= 3 and self.x <= 8:\n",
        "      vy -= 1\n",
        "    if self.x >= 6 and self.x <= 7:\n",
        "      vy -= 1\n",
        "    if noise:\n",
        "      vy += random.randint(3) - 1\n",
        "\n",
        "    _x, _y = self.x + vx, self.y + vy\n",
        "    if _x < 0 or _x > 9:\n",
        "      _x = self.x\n",
        "    if _y < 0 or _y > 6:\n",
        "      _y = self.y\n",
        "    self.x, self.y = _x, _y\n",
        "    if (self.x, self.y) == (7, 3): # Finish\n",
        "      return True\n",
        "\n",
        "    return False"
      ],
      "execution_count": 0,
      "outputs": []
    },
    {
      "cell_type": "code",
      "metadata": {
        "id": "6KL6VvpZ8ORG",
        "colab_type": "code",
        "colab": {}
      },
      "source": [
        "def get_action(car, epsilon, num_actions=4):\n",
        "  if random.random() < epsilon:\n",
        "    a = random.randint(0, num_actions)\n",
        "  else:\n",
        "    a = optimal_action(car, num_actions)\n",
        "  return a\n",
        "\n",
        "def optimal_action(car, num_actions):\n",
        "  optimal = 0\n",
        "  v_max = -999999\n",
        "  initial = True\n",
        "  x, y = car.get_state()\n",
        "  for a in range(num_actions):\n",
        "    _car = Car(x, y)\n",
        "    finished = _car.move(a, noise=False)\n",
        "    _x, _y = _car.get_state()\n",
        "    s = \"{:02},{:02}\".format(_x, _y)\n",
        "    if s not in car.v.keys():\n",
        "      car.v[s] = 0\n",
        "    v = car.v[s]\n",
        "    if initial or v > v_max:\n",
        "      v_max = v\n",
        "      optimal = a\n",
        "      initial = False\n",
        "  return optimal\n",
        "\n",
        "def update_v(car, states, td_errors, drain=False, delta=False):\n",
        "  alpha = 0.1\n",
        "  if not delta:\n",
        "    s1 = states[0]\n",
        "    s2 = states[-1]\n",
        "    if s1 not in car.v.keys():\n",
        "      car.v[s1] = 0\n",
        "    if s2 not in car.v.keys():\n",
        "      car.v[s2] = 0\n",
        "    r = -1 * (len(states)-1)\n",
        "    car.v[s1] += alpha * (r + car.v[s2] - car.v[s1])\n",
        "    if drain:\n",
        "      states.pop(0)\n",
        "      td_errors.pop(0)\n",
        "      if len(states) == 1:\n",
        "        return\n",
        "      update_v(car, states, td_errors, drain=True, delta=False)\n",
        "  else:\n",
        "    s1 = states[0]\n",
        "    if s1 not in car.v.keys():\n",
        "      car.v[s1] = 0\n",
        "    car.v[s1] += alpha * np.sum(td_errors)\n",
        "    if drain:\n",
        "      states.pop(0)\n",
        "      td_errors.pop(0)\n",
        "      if len(states) == 1:\n",
        "        return\n",
        "      update_v(car, states, td_errors, drain=True, delta=True)\n",
        "\n",
        "def trial(car, epsilon = 0.1, king=False, noise=False, steps=5, delta=False):\n",
        "  num_actions = 4\n",
        "  if king:\n",
        "    num_actions = 8\n",
        "  car.restart()\n",
        "  states = []\n",
        "  td_errors = []\n",
        "  running = True\n",
        "  x, y = car.get_state()\n",
        "  s_pre = \"{:02},{:02}\".format(x, y)\n",
        "  states.append(s_pre)\n",
        "\n",
        "  while True:\n",
        "    a = get_action(car, epsilon, num_actions)\n",
        "    finished = car.move(a, noise)\n",
        "    x, y = car.get_state()\n",
        "    s_new = \"{:02},{:02}\".format(x, y)\n",
        "    states.append(s_new)\n",
        "    if s_pre not in car.v.keys():\n",
        "      car.v[s_pre] = 0\n",
        "    if s_new not in car.v.keys():\n",
        "      car.v[s_new] = 0\n",
        "    td_errors.append(-1 + car.v[s_new] - car.v[s_pre])\n",
        "    if finished:      \n",
        "      car.add_episode(1)\n",
        "      update_v(car, states, td_errors, drain=True, delta=delta)\n",
        "      break\n",
        "    car.add_episode(0)\n",
        "    s_pre = s_new\n",
        "    if len(states) >= steps + 1:\n",
        "      update_v(car, states, td_errors, drain=False, delta=delta)\n",
        "      td_errors.pop(0)\n",
        "      states.pop(0)\n"
      ],
      "execution_count": 0,
      "outputs": []
    },
    {
      "cell_type": "markdown",
      "metadata": {
        "id": "kRtpHle6jOMc",
        "colab_type": "text"
      },
      "source": [
        "Compare TD[n] and 'TD Error sum' method with n=10, α=10."
      ]
    },
    {
      "cell_type": "code",
      "metadata": {
        "id": "xae1TuxYcS_h",
        "colab_type": "code",
        "colab": {
          "base_uri": "https://localhost:8080/",
          "height": 286
        },
        "outputId": "effad1e4-7683-451b-d70f-3945cfb2413a"
      },
      "source": [
        "result1 = np.zeros(5001)\n",
        "for _ in range(50):\n",
        "  car1 = Car()\n",
        "  while True:\n",
        "    trial(car1, noise=False, steps=10, delta=False)\n",
        "    if len(car1.episodes) > 5000:\n",
        "      break\n",
        "  result1 += np.array(car1.episodes[:5001])\n",
        "\n",
        "result2 = np.zeros(5001)\n",
        "for _ in range(50):\n",
        "  car2 = Car()\n",
        "  while True:\n",
        "    trial(car2, noise=False, steps=10, delta=True)\n",
        "    if len(car2.episodes) > 5000:\n",
        "      break\n",
        "  result2 += np.array(car2.episodes[:5001])\n",
        "\n",
        "DataFrame({'TD[10]': result1/50,\n",
        "           'TD Eroor sum': result2/50,\n",
        "           }).plot()"
      ],
      "execution_count": 4,
      "outputs": [
        {
          "output_type": "execute_result",
          "data": {
            "text/plain": [
              "<matplotlib.axes._subplots.AxesSubplot at 0x7f10bf498d30>"
            ]
          },
          "metadata": {
            "tags": []
          },
          "execution_count": 4
        },
        {
          "output_type": "display_data",
          "data": {
            "image/png": "[encoded data removed]",
            "text/plain": [
              "<Figure size 432x288 with 1 Axes>"
            ]
          },
          "metadata": {
            "tags": []
          }
        }
      ]
    },
    {
      "cell_type": "markdown",
      "metadata": {
        "id": "5VRhs46Vi_RL",
        "colab_type": "text"
      },
      "source": [
        "Find the optimal n with α=0.1"
      ]
    },
    {
      "cell_type": "code",
      "metadata": {
        "id": "QP68Epkkg_A3",
        "colab_type": "code",
        "colab": {
          "base_uri": "https://localhost:8080/",
          "height": 286
        },
        "outputId": "eff39a27-1361-4c70-ab59-7accb6dc63fe"
      },
      "source": [
        "result1 = np.zeros(5001)\n",
        "for _ in range(50):\n",
        "  car1 = Car()\n",
        "  while True:\n",
        "    trial(car1, noise=False, steps=1, delta=False)\n",
        "    if len(car1.episodes) > 5000:\n",
        "      break\n",
        "  result1 += np.array(car1.episodes[:5001])\n",
        "\n",
        "result2 = np.zeros(5001)\n",
        "for _ in range(50):\n",
        "  car2 = Car()\n",
        "  while True:\n",
        "    trial(car2, noise=False, steps=5, delta=False)\n",
        "    if len(car2.episodes) > 5000:\n",
        "      break\n",
        "  result2 += np.array(car2.episodes[:5001])\n",
        "\n",
        "result3 = np.zeros(5001)\n",
        "for _ in range(50):\n",
        "  car3 = Car()\n",
        "  while True:\n",
        "    trial(car3, noise=False, steps=10, delta=False)\n",
        "    if len(car3.episodes) > 5000:\n",
        "      break\n",
        "  result3 += np.array(car3.episodes[:5001])\n",
        "\n",
        "DataFrame({'steps=1': result1/50,\n",
        "           'steps=5': result2/50,\n",
        "           'steps=10': result3/50,\n",
        "           }).plot()"
      ],
      "execution_count": 5,
      "outputs": [
        {
          "output_type": "execute_result",
          "data": {
            "text/plain": [
              "<matplotlib.axes._subplots.AxesSubplot at 0x7f10bcba8470>"
            ]
          },
          "metadata": {
            "tags": []
          },
          "execution_count": 5
        },
        {
          "output_type": "display_data",
          "data": {
            "image/png": "[encoded data removed]",
            "text/plain": [
              "<Figure size 432x288 with 1 Axes>"
            ]
          },
          "metadata": {
            "tags": []
          }
        }
      ]
    }
  ]
}