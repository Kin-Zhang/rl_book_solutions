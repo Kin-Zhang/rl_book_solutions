{
  "nbformat": 4,
  "nbformat_minor": 0,
  "metadata": {
    "colab": {
      "name": "Exercise 5_5_extended.ipynb",
      "version": "0.3.2",
      "provenance": [],
      "collapsed_sections": [],
      "include_colab_link": true
    },
    "kernelspec": {
      "name": "python3",
      "display_name": "Python 3"
    }
  },
  "cells": [
    {
      "cell_type": "markdown",
      "metadata": {
        "id": "view-in-github",
        "colab_type": "text"
      },
      "source": [
        "<a href=\"https://colab.research.google.com/github/enakai00/rl_book_solutions/blob/master/Chapter05/Exercise_5_5_extended.ipynb\" target=\"_parent\"><img src=\"https://colab.research.google.com/assets/colab-badge.svg\" alt=\"Open In Colab\"/></a>"
      ]
    },
    {
      "cell_type": "markdown",
      "metadata": {
        "id": "EZALcAIgjcvB",
        "colab_type": "text"
      },
      "source": [
        "# Exercise 5.5: Extended solution"
      ]
    },
    {
      "cell_type": "markdown",
      "metadata": {
        "id": "CoyuVQ4ejg4l",
        "colab_type": "text"
      },
      "source": [
        "In this notebook, we evaluate the convergence of MC estimation (first-visit and every-visit) of $\\mathbf E[G]$.\n",
        "\n",
        "Note that the exact answer to this problem is:\n",
        "\n",
        "$$\n",
        "\\mathbf E[G] = \\sum_{n=0}^\\infty np^n(1-p) = p(1-p)\\sum_{n=1}^\\infty np^{n-1}\n",
        "= p(1-p)\\frac{1}{(1-p)^2}=\\frac{p}{1-p}\n",
        "$$"
      ]
    },
    {
      "cell_type": "code",
      "metadata": {
        "id": "6W03X_OD8g8I",
        "colab_type": "code",
        "colab": {}
      },
      "source": [
        "import numpy as np\n",
        "from numpy import random\n",
        "from pandas import DataFrame"
      ],
      "execution_count": 0,
      "outputs": []
    },
    {
      "cell_type": "markdown",
      "metadata": {
        "id": "gKelqtVel8xG",
        "colab_type": "text"
      },
      "source": [
        "First, we define the model (simulator)."
      ]
    },
    {
      "cell_type": "code",
      "metadata": {
        "id": "9-su-a3_8bge",
        "colab_type": "code",
        "colab": {}
      },
      "source": [
        "def trial(p):\n",
        "  n = 0\n",
        "  while True:\n",
        "    if random.random() < 1-p:\n",
        "      return n\n",
        "    n += 1"
      ],
      "execution_count": 0,
      "outputs": []
    },
    {
      "cell_type": "markdown",
      "metadata": {
        "id": "UDwu3hXdlnYE",
        "colab_type": "text"
      },
      "source": [
        "We calculate the squared error of estimated $\\mathbf E[G]$ in each step (episode)."
      ]
    },
    {
      "cell_type": "code",
      "metadata": {
        "id": "x1qNzvLGhEJS",
        "colab_type": "code",
        "colab": {}
      },
      "source": [
        "def run_estimate(p, l, every_visit=False):\n",
        "  c = 0\n",
        "  q = 0\n",
        "  estimate = []\n",
        "  for _ in range(l):\n",
        "    r = trial(p)\n",
        "    if every_visit:\n",
        "      for i in range(r+1):\n",
        "        c += 1\n",
        "        q += (i - q)/c\n",
        "    else:\n",
        "      c += 1\n",
        "      q += (r - q)/c\n",
        "    se = (q - p/(1-p))**2\n",
        "    estimate.append(se)\n",
        "  return np.array(estimate)"
      ],
      "execution_count": 0,
      "outputs": []
    },
    {
      "cell_type": "markdown",
      "metadata": {
        "id": "xHShSZTFlaqd",
        "colab_type": "text"
      },
      "source": [
        "We run the MC estimation `repeat` times and take average."
      ]
    },
    {
      "cell_type": "code",
      "metadata": {
        "id": "MsRM18syfJ_J",
        "colab_type": "code",
        "outputId": "8b5cfaa9-3000-4a19-ccf2-aa3dfa2322b5",
        "colab": {
          "base_uri": "https://localhost:8080/",
          "height": 286
        }
      },
      "source": [
        "p = 0.9\n",
        "l = 200\n",
        "repeat = 1000\n",
        "\n",
        "estimate1 = np.zeros(l)\n",
        "for _ in range(repeat):\n",
        "  estimate1 += run_estimate(p, l, False)\n",
        "estimate1 /= repeat\n",
        "\n",
        "estimate2 = np.zeros(l)\n",
        "for _ in range(repeat):\n",
        "  estimate2 += run_estimate(p, l, True)\n",
        "estimate2 /= repeat\n",
        "\n",
        "DataFrame({'first-vist': estimate1,\n",
        "           'every-visit': estimate2}).plot()"
      ],
      "execution_count": 0,
      "outputs": [
        {
          "output_type": "execute_result",
          "data": {
            "text/plain": [
              "<matplotlib.axes._subplots.AxesSubplot at 0x7f3fc45b20f0>"
            ]
          },
          "metadata": {
            "tags": []
          },
          "execution_count": 4
        },
        {
          "output_type": "display_data",
          "data": {
            "image/png": "[encoded data removed]",
            "text/plain": [
              "<Figure size 432x288 with 1 Axes>"
            ]
          },
          "metadata": {
            "tags": []
          }
        }
      ]
    }
  ]
}