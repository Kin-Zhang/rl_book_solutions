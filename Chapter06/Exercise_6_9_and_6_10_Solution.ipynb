{
  "nbformat": 4,
  "nbformat_minor": 0,
  "metadata": {
    "colab": {
      "name": "Exercise 6.9 and 6.10: Solution.ipynb",
      "version": "0.3.2",
      "provenance": [],
      "collapsed_sections": [],
      "include_colab_link": true
    },
    "kernelspec": {
      "name": "python3",
      "display_name": "Python 3"
    }
  },
  "cells": [
    {
      "cell_type": "markdown",
      "metadata": {
        "id": "view-in-github",
        "colab_type": "text"
      },
      "source": [
        "<a href=\"https://colab.research.google.com/github/enakai00/rl_book_solutions/blob/master/Chapter06/Exercise_6_9_and_6_10_Solution.ipynb\" target=\"_parent\"><img src=\"https://colab.research.google.com/assets/colab-badge.svg\" alt=\"Open In Colab\"/></a>"
      ]
    },
    {
      "cell_type": "markdown",
      "metadata": {
        "id": "Oq-cT1VHizgz",
        "colab_type": "text"
      },
      "source": [
        "# Exercise 6.9 and 6.10 : Solution"
      ]
    },
    {
      "cell_type": "code",
      "metadata": {
        "id": "MWOOgNK0ygdC",
        "colab_type": "code",
        "colab": {}
      },
      "source": [
        "import numpy as np\n",
        "from numpy import random\n",
        "from pandas import DataFrame"
      ],
      "execution_count": 0,
      "outputs": []
    },
    {
      "cell_type": "code",
      "metadata": {
        "id": "CBHd9TZXzcEo",
        "colab_type": "code",
        "colab": {}
      },
      "source": [
        "class Car:\n",
        "  def __init__(self):\n",
        "    self.path = []\n",
        "    self.actions = [(0, 1), (1, 0), (0, -1), (-1, 0),\n",
        "                    (1, 1), (1, -1), (-1, -1), (-1, 1)]\n",
        "    self.episodes = [0]\n",
        "    self.q = {}\n",
        "    self.restart()\n",
        "\n",
        "  def restart(self):\n",
        "    self.x, self.y = 0, 3\n",
        "    self.path = []\n",
        "\n",
        "  def get_state(self):\n",
        "    return self.x, self.y\n",
        "\n",
        "  def show_path(self):\n",
        "    result = [[' ' for x in range(10)] for y in range(7)]\n",
        "    for c, (x, y, a) in enumerate(self.path):\n",
        "      result[y][x] = str(c)[-1]\n",
        "    result[3][7] = 'G'\n",
        "    return result     \n",
        "\n",
        "  def add_episode(self, c=0):\n",
        "    self.episodes.append(self.episodes[-1]+c)\n",
        "\n",
        "  def move(self, action, noise):\n",
        "    self.path.append((self.x, self.y, action))\n",
        "    vx, vy = self.actions[action]\n",
        "    if self.x >= 3 and self.x <= 8:\n",
        "      vy -= 1\n",
        "    if self.x >= 6 and self.x <= 7:\n",
        "      vy -= 1\n",
        "    if noise:\n",
        "      vy += random.randint(3) - 1\n",
        "\n",
        "    _x, _y = self.x + vx, self.y + vy\n",
        "    if _x < 0 or _x > 9:\n",
        "      _x = self.x\n",
        "    if _y < 0 or _y > 6:\n",
        "      _y = self.y\n",
        "    self.x, self.y = _x, _y\n",
        "    if (self.x, self.y) == (7, 3): # Finish\n",
        "      return True\n",
        "\n",
        "    return False"
      ],
      "execution_count": 0,
      "outputs": []
    },
    {
      "cell_type": "code",
      "metadata": {
        "id": "6KL6VvpZ8ORG",
        "colab_type": "code",
        "colab": {}
      },
      "source": [
        "def get_action(car, epsilon, num_actions=4):\n",
        "  if random.random() < epsilon:\n",
        "    a = random.randint(0, num_actions)\n",
        "  else:\n",
        "    a = optimal_action(car, num_actions)\n",
        "  return a\n",
        "\n",
        "def optimal_action(car, num_actions):\n",
        "  optimal = 0\n",
        "  q_max = 0\n",
        "  initial = True\n",
        "  x, y = car.get_state()\n",
        "  for a in range(num_actions):\n",
        "    sa = \"{:02},{:02}:{:02}\".format(x, y, a)\n",
        "    if sa not in car.q.keys():\n",
        "      car.q[sa] = 0\n",
        "    if initial or car.q[sa] > q_max:\n",
        "      q_max = car.q[sa]\n",
        "      optimal = a\n",
        "      initial = False\n",
        "  return optimal\n",
        "\n",
        "def update_q(car, x, y, a, epsilon, num_actions):\n",
        "  sa = \"{:02},{:02}:{:02}\".format(x, y, a)\n",
        "  _a = get_action(car, epsilon, num_actions)\n",
        "  _x, _y = car.get_state()\n",
        "  sa_next = \"{:02},{:02}:{:02}\".format(_x, _y, _a)\n",
        "\n",
        "  if sa not in car.q.keys():\n",
        "    car.q[sa] = 0\n",
        "  if sa_next not in car.q.keys():\n",
        "    car.q[sa_next] = 0\n",
        "\n",
        "  car.q[sa] += 0.5 * (-1 + car.q[sa_next] - car.q[sa])\n",
        "  return _a\n",
        "\n",
        "def trial(car, epsilon = 0.1, king=False, noise=False):\n",
        "  num_actions = 4\n",
        "  if king:\n",
        "    num_actions = 8\n",
        "  car.restart()\n",
        "  a = get_action(car, epsilon, num_actions)\n",
        "  while True:\n",
        "    x, y = car.get_state()\n",
        "    finished = car.move(a, noise)\n",
        "    if finished:\n",
        "      car.add_episode(1)\n",
        "      sa = \"{:02},{:02}:{:02}\".format(x, y, a)\n",
        "      if sa not in car.q.keys():\n",
        "        car.q[sa] = 0\n",
        "      car.q[sa] += 0.5 * (-1 + 0 - car.q[sa])\n",
        "      break\n",
        "    a = update_q(car, x, y, a, epsilon, num_actions)\n",
        "    car.add_episode(0)"
      ],
      "execution_count": 0,
      "outputs": []
    },
    {
      "cell_type": "code",
      "metadata": {
        "id": "Jro_KEP7pdRs",
        "colab_type": "code",
        "outputId": "118b7683-6c3a-4038-88aa-c9f6245d5ed6",
        "colab": {
          "base_uri": "https://localhost:8080/",
          "height": 286
        }
      },
      "source": [
        "car1, car2, car3 = Car(), Car(), Car()\n",
        "while True:\n",
        "  trial(car1)\n",
        "  if len(car1.episodes) >= 20000:\n",
        "    break\n",
        "\n",
        "while True:\n",
        "  trial(car2, king=True)\n",
        "  if len(car2.episodes) >= 20000:\n",
        "    break\n",
        "\n",
        "while True:\n",
        "  trial(car3, king=True, noise=True)\n",
        "  if len(car3.episodes) >= 20000:\n",
        "    break\n",
        "\n",
        "DataFrame({'normal': car1.episodes[:8001],\n",
        "           'king move': car2.episodes[:8001],\n",
        "           'stochastic': car3.episodes[:8001]}).plot()"
      ],
      "execution_count": 4,
      "outputs": [
        {
          "output_type": "execute_result",
          "data": {
            "text/plain": [
              "<matplotlib.axes._subplots.AxesSubplot at 0x7f7cc331c6a0>"
            ]
          },
          "metadata": {
            "tags": []
          },
          "execution_count": 4
        },
        {
          "output_type": "display_data",
          "data": {
            "image/png": "[encoded data removed]",
            "text/plain": [
              "<Figure size 432x288 with 1 Axes>"
            ]
          },
          "metadata": {
            "tags": []
          }
        }
      ]
    },
    {
      "cell_type": "code",
      "metadata": {
        "id": "Ksc-qW7Zsstm",
        "colab_type": "code",
        "outputId": "153c6708-5935-4cfd-ee1d-28450515e4d3",
        "colab": {
          "base_uri": "https://localhost:8080/",
          "height": 587
        }
      },
      "source": [
        "trial(car1, epsilon=0)\n",
        "print('normal:', len(car1.path))\n",
        "print (\"#\" * 12)\n",
        "for _ in map(lambda lst: ''.join(lst), car1.show_path()):\n",
        "  print('#' + _ + '#')\n",
        "print (\"#\" * 12)\n",
        "print ()\n",
        "\n",
        "trial(car2, epsilon=0, king=True)\n",
        "print('king move:', len(car2.path))\n",
        "print (\"#\" * 12)\n",
        "for _ in map(lambda lst: ''.join(lst), car2.show_path()):\n",
        "  print('#' + _ + '#')\n",
        "print (\"#\" * 12)\n",
        "print ()\n",
        "\n",
        "trial(car3, epsilon=0, king=True, noise=True)\n",
        "print('stochastic:', len(car3.path))\n",
        "print (\"#\" * 12)\n",
        "for _ in map(lambda lst: ''.join(lst), car3.show_path()):\n",
        "  print('#' + _ + '#')\n",
        "print (\"#\" * 12)\n",
        "print ()"
      ],
      "execution_count": 5,
      "outputs": [
        {
          "output_type": "stream",
          "text": [
            "normal: 17\n",
            "############\n",
            "#       901#\n",
            "#         2#\n",
            "#      8  3#\n",
            "#0    7 G 4#\n",
            "#1   6   65#\n",
            "#2345      #\n",
            "#          #\n",
            "############\n",
            "\n",
            "king move: 7\n",
            "############\n",
            "#          #\n",
            "#          #\n",
            "#          #\n",
            "#0      G  #\n",
            "# 1        #\n",
            "#  2       #\n",
            "#   3456   #\n",
            "############\n",
            "\n",
            "stochastic: 28\n",
            "############\n",
            "#          #\n",
            "#7         #\n",
            "#67        #\n",
            "#84     G  #\n",
            "#1 3       #\n",
            "#902 5 7   #\n",
            "#  34 6    #\n",
            "############\n",
            "\n"
          ],
          "name": "stdout"
        }
      ]
    }
  ]
}