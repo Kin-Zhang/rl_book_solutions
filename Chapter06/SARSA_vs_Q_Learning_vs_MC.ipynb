{
  "nbformat": 4,
  "nbformat_minor": 0,
  "metadata": {
    "colab": {
      "name": "SARSA vs Q-Learning vs MC.ipynb",
      "provenance": [],
      "collapsed_sections": [],
      "include_colab_link": true
    },
    "kernelspec": {
      "name": "python3",
      "display_name": "Python 3"
    }
  },
  "cells": [
    {
      "cell_type": "markdown",
      "metadata": {
        "id": "view-in-github",
        "colab_type": "text"
      },
      "source": [
        "<a href=\"https://colab.research.google.com/github/enakai00/rl_book_solutions/blob/master/Chapter06/SARSA_vs_Q_Learning_vs_MC.ipynb\" target=\"_parent\"><img src=\"https://colab.research.google.com/assets/colab-badge.svg\" alt=\"Open In Colab\"/></a>"
      ]
    },
    {
      "cell_type": "code",
      "metadata": {
        "id": "MWOOgNK0ygdC",
        "colab_type": "code",
        "colab": {}
      },
      "source": [
        "import numpy as np\n",
        "from numpy import random\n",
        "from pandas import DataFrame\n",
        "import copy"
      ],
      "execution_count": 0,
      "outputs": []
    },
    {
      "cell_type": "code",
      "metadata": {
        "id": "CBHd9TZXzcEo",
        "colab_type": "code",
        "colab": {}
      },
      "source": [
        "class Car:\n",
        "  def __init__(self):\n",
        "    self.path = []\n",
        "    self.actions = [(0, 1), (1, 0), (0, -1), (-1, 0)]\n",
        "    self.episodes = [0]\n",
        "    self.q = {}\n",
        "    self.c ={}\n",
        "    self.restart()\n",
        "\n",
        "  def restart(self):\n",
        "    self.x, self.y = 0, 3\n",
        "    self.path = []\n",
        "\n",
        "  def get_state(self):\n",
        "    return self.x, self.y\n",
        "\n",
        "  def show_path(self):\n",
        "    result = [[' ' for x in range(10)] for y in range(7)]\n",
        "    for c, (x, y, a) in enumerate(self.path):\n",
        "      result[y][x] = str(c)[-1]\n",
        "    result[3][7] = 'G'\n",
        "    return result     \n",
        "\n",
        "  def add_episode(self, c=0):\n",
        "    self.episodes.append(self.episodes[-1]+c)\n",
        "\n",
        "  def move(self, action):\n",
        "    self.path.append((self.x, self.y, action))\n",
        "    vx, vy = self.actions[action]\n",
        "    if self.x >= 3 and self.x <= 8:\n",
        "      vy -= 1\n",
        "    if self.x >= 6 and self.x <= 7:\n",
        "      vy -= 1\n",
        "\n",
        "    _x, _y = self.x + vx, self.y + vy\n",
        "    if _x < 0 or _x > 9:\n",
        "      _x = self.x\n",
        "    if _y < 0 or _y > 6:\n",
        "      _y = self.y\n",
        "    self.x, self.y = _x, _y\n",
        "    if (self.x, self.y) == (7, 3): # Finish\n",
        "      return True\n",
        "\n",
        "    return False"
      ],
      "execution_count": 0,
      "outputs": []
    },
    {
      "cell_type": "code",
      "metadata": {
        "id": "6KL6VvpZ8ORG",
        "colab_type": "code",
        "colab": {}
      },
      "source": [
        "def get_action(car, epsilon, default_q=0):\n",
        "  if random.random() < epsilon:\n",
        "    a = random.randint(0, len(car.actions))\n",
        "  else:\n",
        "    a = optimal_action(car, default_q)\n",
        "  return a\n",
        "\n",
        "def optimal_action(car, default_q=0):\n",
        "  optimal = 0\n",
        "  q_max = 0\n",
        "  initial = True\n",
        "  x, y = car.get_state()\n",
        "  for a in range(len(car.actions)):\n",
        "    sa = \"{:02},{:02}:{:02}\".format(x, y, a)\n",
        "    if sa not in car.q.keys():\n",
        "      car.q[sa] = default_q\n",
        "    if initial or car.q[sa] > q_max:\n",
        "      q_max = car.q[sa]\n",
        "      optimal = a\n",
        "      initial = False\n",
        "  return optimal\n",
        "\n",
        "def update_q(car, x, y, a, epsilon, q_learning=False):\n",
        "  sa = \"{:02},{:02}:{:02}\".format(x, y, a)\n",
        "  if q_learning:\n",
        "    _a = optimal_action(car)\n",
        "  else:\n",
        "    _a = get_action(car, epsilon)\n",
        "  _x, _y = car.get_state()\n",
        "  sa_next = \"{:02},{:02}:{:02}\".format(_x, _y, _a)\n",
        "\n",
        "  if sa not in car.q.keys():\n",
        "    car.q[sa] = 0\n",
        "  if sa_next not in car.q.keys():\n",
        "    car.q[sa_next] = 0\n",
        "\n",
        "  car.q[sa] += 0.5 * (-1 + car.q[sa_next] - car.q[sa])\n",
        "  if q_learning:\n",
        "    _a = get_action(car, epsilon)\n",
        "\n",
        "  return _a\n",
        "\n",
        "def trial(car, epsilon = 0.1, q_learning=False):\n",
        "  car.restart()\n",
        "  a = get_action(car, epsilon)\n",
        "  while True:\n",
        "    x, y = car.get_state()\n",
        "    finished = car.move(a)\n",
        "    if finished:\n",
        "      car.add_episode(1)\n",
        "      sa = \"{:02},{:02}:{:02}\".format(x, y, a)\n",
        "      if sa not in car.q.keys():\n",
        "        car.q[sa] = 0\n",
        "      car.q[sa] += 0.5 * (-1 + 0 - car.q[sa])\n",
        "      break\n",
        "    a = update_q(car, x, y, a, epsilon, q_learning)\n",
        "    car.add_episode(0)"
      ],
      "execution_count": 0,
      "outputs": []
    },
    {
      "cell_type": "code",
      "metadata": {
        "id": "IA-v1ASZ1R6w",
        "colab_type": "code",
        "colab": {}
      },
      "source": [
        "def trial_mc(car, epsilon=0.1):\n",
        "  car.restart()\n",
        "  while True:\n",
        "    x, y = car.get_state()\n",
        "    state = \"{:02},{:02}\".format(x, y)\n",
        "    a = get_action(car, epsilon, default_q=-10**10)\n",
        "    finished = car.move(a)\n",
        "    if finished:\n",
        "      car.add_episode(1)\n",
        "      g = 0\n",
        "      w = 1\n",
        "      path = copy.copy(car.path)\n",
        "      path.reverse()\n",
        "      for x, y, a in path:\n",
        "        car.x, car.y = x, y\n",
        "        opt_a = optimal_action(car, default_q=-10**10)\n",
        "  \n",
        "        sa = \"{:02},{:02}:{:02}\".format(x, y, a)\n",
        "        g += -1 # Reward = -1 for each step\n",
        "        if sa not in car.c.keys():\n",
        "          car.c[sa] = w\n",
        "          car.q[sa] = g\n",
        "        else:\n",
        "          car.c[sa] += w\n",
        "          car.q[sa] += w*(g-car.q[sa])/car.c[sa]\n",
        "        if opt_a != a:\n",
        "          break\n",
        "        w = w / (1 - epsilon + epsilon/len(car.actions))\n",
        "\n",
        "      break\n",
        "    car.add_episode(0)"
      ],
      "execution_count": 0,
      "outputs": []
    },
    {
      "cell_type": "code",
      "metadata": {
        "id": "a-2cZ1Cs5OIX",
        "colab_type": "code",
        "colab": {
          "base_uri": "https://localhost:8080/",
          "height": 68
        },
        "outputId": "53a0a086-ec52-4982-d007-05cf3fed45b3"
      },
      "source": [
        "car1, car2, car3 = Car(), Car(), Car()\n",
        "while True:\n",
        "  trial(car1)\n",
        "  if len(car1.episodes) >= 10000:\n",
        "    break\n",
        "print(car1.episodes[-1])\n",
        "\n",
        "while True:\n",
        "  trial(car2, q_learning=True)\n",
        "  if len(car2.episodes) >= 10000:\n",
        "    break\n",
        "print(car2.episodes[-1])\n",
        "\n",
        "while True:\n",
        "  trial_mc(car3)\n",
        "  if len(car3.episodes) >= 200000:\n",
        "    break\n",
        "print(car3.episodes[-1])"
      ],
      "execution_count": 5,
      "outputs": [
        {
          "output_type": "stream",
          "text": [
            "235\n",
            "316\n",
            "5585\n"
          ],
          "name": "stdout"
        }
      ]
    },
    {
      "cell_type": "code",
      "metadata": {
        "id": "Jro_KEP7pdRs",
        "colab_type": "code",
        "outputId": "a57f2131-9ae2-4616-bdb9-60eb13a097cc",
        "colab": {
          "base_uri": "https://localhost:8080/",
          "height": 282
        }
      },
      "source": [
        "DataFrame({'SARSA': car1.episodes[:8001],\n",
        "           'Q-Learning': car2.episodes[:8001],\n",
        "           'MC': car3.episodes[:8001]}\n",
        "          ).plot()"
      ],
      "execution_count": 6,
      "outputs": [
        {
          "output_type": "execute_result",
          "data": {
            "text/plain": [
              "<matplotlib.axes._subplots.AxesSubplot at 0x7fc0773201d0>"
            ]
          },
          "metadata": {
            "tags": []
          },
          "execution_count": 6
        },
        {
          "output_type": "display_data",
          "data": {
            "image/png": "[encoded data removed]",
            "text/plain": [
              "<Figure size 432x288 with 1 Axes>"
            ]
          },
          "metadata": {
            "tags": []
          }
        }
      ]
    },
    {
      "cell_type": "code",
      "metadata": {
        "id": "Ksc-qW7Zsstm",
        "colab_type": "code",
        "outputId": "0c5f1096-abed-4dad-ed8e-92631d660289",
        "colab": {
          "base_uri": "https://localhost:8080/",
          "height": 578
        }
      },
      "source": [
        "trial(car1, epsilon=0)\n",
        "print('SARSA:', len(car1.path))\n",
        "print (\"#\" * 12)\n",
        "for _ in map(lambda lst: ''.join(lst), car1.show_path()):\n",
        "  print('#' + _ + '#')\n",
        "print (\"#\" * 12)\n",
        "print ()\n",
        "\n",
        "trial(car2, epsilon=0)\n",
        "print('Q-Learning:', len(car2.path))\n",
        "print (\"#\" * 12)\n",
        "for _ in map(lambda lst: ''.join(lst), car2.show_path()):\n",
        "  print('#' + _ + '#')\n",
        "print (\"#\" * 12)\n",
        "print ()\n",
        "\n",
        "trial_mc(car3, epsilon=0)\n",
        "print('MC:', len(car3.path))\n",
        "print (\"#\" * 12)\n",
        "for _ in map(lambda lst: ''.join(lst), car3.show_path()):\n",
        "  print('#' + _ + '#')\n",
        "print (\"#\" * 12)\n",
        "print ()"
      ],
      "execution_count": 7,
      "outputs": [
        {
          "output_type": "stream",
          "text": [
            "SARSA: 17\n",
            "############\n",
            "#       901#\n",
            "#         2#\n",
            "#      8  3#\n",
            "#01   7 G 4#\n",
            "# 2  6   65#\n",
            "# 345      #\n",
            "#          #\n",
            "############\n",
            "\n",
            "Q-Learning: 15\n",
            "############\n",
            "#      6789#\n",
            "#     5   0#\n",
            "#    4    1#\n",
            "#0123   G 2#\n",
            "#        43#\n",
            "#          #\n",
            "#          #\n",
            "############\n",
            "\n",
            "MC: 15\n",
            "############\n",
            "#      6789#\n",
            "#     5   0#\n",
            "#    4    1#\n",
            "#0123   G 2#\n",
            "#        43#\n",
            "#          #\n",
            "#          #\n",
            "############\n",
            "\n"
          ],
          "name": "stdout"
        }
      ]
    }
  ]
}