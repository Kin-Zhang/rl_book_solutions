{
  "nbformat": 4,
  "nbformat_minor": 0,
  "metadata": {
    "colab": {
      "name": "Exercise 8.2 - 8.4: Solution.ipynb",
      "version": "0.3.2",
      "provenance": [],
      "collapsed_sections": [],
      "include_colab_link": true
    },
    "kernelspec": {
      "name": "python3",
      "display_name": "Python 3"
    }
  },
  "cells": [
    {
      "cell_type": "markdown",
      "metadata": {
        "id": "view-in-github",
        "colab_type": "text"
      },
      "source": [
        "<a href=\"https://colab.research.google.com/github/enakai00/rl_book_solutions/blob/master/Chapter08/Exercise_8_2_8_4_Solution.ipynb\" target=\"_parent\"><img src=\"https://colab.research.google.com/assets/colab-badge.svg\" alt=\"Open In Colab\"/></a>"
      ]
    },
    {
      "cell_type": "markdown",
      "metadata": {
        "id": "Oq-cT1VHizgz",
        "colab_type": "text"
      },
      "source": [
        "# Exercise 8.2 - 8.4 : Solution"
      ]
    },
    {
      "cell_type": "code",
      "metadata": {
        "id": "MWOOgNK0ygdC",
        "colab_type": "code",
        "colab": {}
      },
      "source": [
        "import numpy as np\n",
        "from numpy import random\n",
        "from pandas import DataFrame"
      ],
      "execution_count": 0,
      "outputs": []
    },
    {
      "cell_type": "code",
      "metadata": {
        "id": "dGGigZaGDLHM",
        "colab_type": "code",
        "colab": {}
      },
      "source": [
        "maze_img = '''\n",
        "###########\n",
        "#         #\n",
        "#         #\n",
        "#         #\n",
        "# #########\n",
        "#         #\n",
        "#         #\n",
        "###########\n",
        "'''\n",
        "def get_track(track_img):\n",
        "  x_max = max(map(len, track_img.split('\\n')))\n",
        "  track = []\n",
        "  for line in track_img.split('\\n'):\n",
        "    if line == '':\n",
        "      continue \n",
        "    line += ' ' * x_max\n",
        "    track.append(list(line)[:x_max])\n",
        "\n",
        "  return np.array(track)"
      ],
      "execution_count": 0,
      "outputs": []
    },
    {
      "cell_type": "code",
      "metadata": {
        "id": "CBHd9TZXzcEo",
        "colab_type": "code",
        "colab": {}
      },
      "source": [
        "class Agent:\n",
        "  def __init__(self, x=1, y=3, shortcut=True, q_plus=True, alternate=False):\n",
        "    self.path = []\n",
        "    self.actions = [(0, 1), (1, 0), (0, -1), (-1, 0)]\n",
        "    self.shortcut = shortcut\n",
        "    self.q_plus = q_plus\n",
        "    self.alternate = alternate\n",
        "    self.q = {}\n",
        "    self.model = {}\n",
        "    self.rewards = [0]\n",
        "    self.restart(x, y)\n",
        "    self.maze = get_track(maze_img)\n",
        "\n",
        "  def restart(self, x=4, y=6):\n",
        "    self.x, self.y = x, y\n",
        "    self.path = []\n",
        "\n",
        "  def get_state(self):\n",
        "    return self.x, self.y\n",
        "\n",
        "  def show_path(self):\n",
        "    result = self.maze.copy()\n",
        "    for c, (x, y, a) in enumerate(self.path):\n",
        "      result[y][x] = str(c)[-1]\n",
        "    result[1][9] = 'G'\n",
        "    return result     \n",
        "\n",
        "  def add_rewards(self, r=0):\n",
        "    self.rewards.append(self.rewards[-1]+r)\n",
        "\n",
        "  def move(self, action):\n",
        "    self.path.append((self.x, self.y, action))\n",
        "    if len(self.rewards) == 3000 and self.shortcut:  # Open shortcut\n",
        "      self.maze[4][9] = ' '\n",
        "    sa = \"{:02},{:02}:{:02}\".format(self.x, self.y, action)\n",
        "    vx, vy = self.actions[action]\n",
        "    if self.maze[self.y+vy][self.x+vx] == '#':\n",
        "      vx, vy = 0, 0\n",
        "    self.x += vx\n",
        "    self.y += vy\n",
        "    if (self.x, self.y) == (9, 1): # Finish\n",
        "      self.model[sa] = (1, self.x, self.y, len(self.rewards))\n",
        "      return True\n",
        "    self.model[sa] = (0, self.x, self.y, len(self.rewards))\n",
        "    return False"
      ],
      "execution_count": 0,
      "outputs": []
    },
    {
      "cell_type": "code",
      "metadata": {
        "id": "6KL6VvpZ8ORG",
        "colab_type": "code",
        "colab": {}
      },
      "source": [
        "def get_action(agent, epsilon):\n",
        "  if random.random() < epsilon:\n",
        "    a = random.randint(0, 4)\n",
        "  else:\n",
        "    a = optimal_action(agent)\n",
        "  return a\n",
        "\n",
        "def optimal_action(agent):\n",
        "  kappa = 0.01\n",
        "  x, y = agent.get_state()\n",
        "  q_vals = []\n",
        "  for a in range(4):\n",
        "    sa = \"{:02},{:02}:{:02}\".format(x, y, a)\n",
        "    if sa not in agent.q.keys():\n",
        "      agent.q[sa] = 0\n",
        "    q_val = agent.q[sa]\n",
        "\n",
        "    if agent.alternate:\n",
        "      if sa not in agent.model.keys():\n",
        "        t = 0\n",
        "      else:\n",
        "        _, _, _, t = agent.model[sa]\n",
        "      q_val += kappa * np.sqrt(len(agent.rewards)-t)\n",
        "\n",
        "    q_vals.append(q_val)\n",
        "  q_max = np.max(q_vals)\n",
        "  candidates = []\n",
        "  for i, q in enumerate(q_vals):\n",
        "    if q == q_max:\n",
        "      candidates.append(i)\n",
        "  a = random.choice(candidates)\n",
        "  return a\n",
        "\n",
        "def update_q(agent, sa1, r, planning_steps):\n",
        "  alpha = 0.1\n",
        "  gamma = 0.95\n",
        "  kappa = 0.01\n",
        "  if sa1 not in agent.q.keys():\n",
        "    agent.q[sa1] = 0\n",
        "\n",
        "  x, y = agent.get_state()\n",
        "  a = optimal_action(agent)\n",
        "  sa2 = \"{:02},{:02}:{:02}\".format(x, y, a)\n",
        "  if sa2 not in agent.q.keys():\n",
        "    agent.q[sa2] = 0\n",
        "  agent.q[sa1] += alpha * (r + gamma * agent.q[sa2] - agent.q[sa1])\n",
        "\n",
        "  if agent.q_plus:\n",
        "    kappa = 0.01\n",
        "  else:\n",
        "    kappa = 0\n",
        "  for _ in range(planning_steps):\n",
        "    if agent.q_plus:\n",
        "      x = random.randint(1, len(agent.maze[0])-1)\n",
        "      y = random.randint(1, len(agent.maze)-1)\n",
        "      a = random.randint(4)\n",
        "      sa1 = \"{:02},{:02}:{:02}\".format(x, y, a)\n",
        "      if sa1 not in agent.model.keys():\n",
        "        agent.model[sa1] = (0, x, y, 0)\n",
        "      r, x, y, t = agent.model[sa1]\n",
        "      r += kappa * np.sqrt(len(agent.rewards)-t)\n",
        "    else:\n",
        "      sa1 = np.random.choice(list(agent.model.keys()))\n",
        "      r, x, y, t = agent.model[sa1]\n",
        "\n",
        "    _x, _y = agent.x, agent.y\n",
        "    agent.x, agent.y = x, y\n",
        "    a = optimal_action(agent)\n",
        "    agent.x, agent.y = _x, _y\n",
        "    sa2 = \"{:02},{:02}:{:02}\".format(x, y, a)\n",
        "\n",
        "    if sa1 not in agent.q.keys():\n",
        "      agent.q[sa1] = 0\n",
        "    if sa2 not in agent.q.keys():\n",
        "       agent.q[sa2] = 0\n",
        "    agent.q[sa1] += alpha * (r + gamma * agent.q[sa2] - agent.q[sa1])\n",
        "\n",
        "\n",
        "def trial(agent, epsilon=0.1, planning_steps=5):\n",
        "  agent.restart()\n",
        "  x, y = agent.get_state()\n",
        "  \n",
        "  while True:\n",
        "    x, y = agent.get_state()\n",
        "    a = get_action(agent, epsilon)\n",
        "    sa1 = \"{:02},{:02}:{:02}\".format(x, y, a)\n",
        "    finished = agent.move(a)\n",
        "\n",
        "    if finished:\n",
        "      update_q(agent, sa1, 1, planning_steps)\n",
        "      agent.add_rewards(1)\n",
        "      break\n",
        "    else:\n",
        "      update_q(agent, sa1, 0, planning_steps)\n",
        "      agent.add_rewards(0)\n",
        "      "
      ],
      "execution_count": 0,
      "outputs": []
    },
    {
      "cell_type": "code",
      "metadata": {
        "id": "7dco3Nn77kAI",
        "colab_type": "code",
        "colab": {
          "base_uri": "https://localhost:8080/",
          "height": 286
        },
        "outputId": "969df6b6-bca3-4cd7-80f6-5b13966e6360"
      },
      "source": [
        "df = DataFrame()\n",
        "\n",
        "agent = Agent(shortcut=False, q_plus=True)\n",
        "while True:\n",
        "  trial(agent, planning_steps=40)\n",
        "  if len(agent.rewards) > 6001:\n",
        "    break\n",
        "df['no shortcut'] = agent.rewards[:6001]\n",
        "\n",
        "agent = Agent(shortcut=True, q_plus=True)\n",
        "while True:\n",
        "  trial(agent, planning_steps=40)\n",
        "  if len(agent.rewards) > 6001:\n",
        "    break\n",
        "df['shortcut'] = agent.rewards[:6001]\n",
        "\n",
        "df.plot()"
      ],
      "execution_count": 5,
      "outputs": [
        {
          "output_type": "execute_result",
          "data": {
            "text/plain": [
              "<matplotlib.axes._subplots.AxesSubplot at 0x7fbdb5c9e518>"
            ]
          },
          "metadata": {
            "tags": []
          },
          "execution_count": 5
        },
        {
          "output_type": "display_data",
          "data": {
            "image/png": "[encoded data removed]",
            "text/plain": [
              "<Figure size 432x288 with 1 Axes>"
            ]
          },
          "metadata": {
            "tags": []
          }
        }
      ]
    },
    {
      "cell_type": "code",
      "metadata": {
        "id": "8XxWotk8_4qR",
        "colab_type": "code",
        "colab": {
          "base_uri": "https://localhost:8080/",
          "height": 173
        },
        "outputId": "d1c88dba-8fa7-4b02-fd21-99b834b46587"
      },
      "source": [
        "trial(agent, epsilon=0, planning_steps=0)\n",
        "print(len(agent.path))\n",
        "for line in agent.show_path():\n",
        "  print (''.join(line))"
      ],
      "execution_count": 6,
      "outputs": [
        {
          "output_type": "stream",
          "text": [
            "10\n",
            "###########\n",
            "#        G#\n",
            "#        9#\n",
            "#        8#\n",
            "# #######7#\n",
            "#    23456#\n",
            "#   01    #\n",
            "###########\n"
          ],
          "name": "stdout"
        }
      ]
    },
    {
      "cell_type": "code",
      "metadata": {
        "id": "cS4C37fJDVBX",
        "colab_type": "code",
        "colab": {
          "base_uri": "https://localhost:8080/",
          "height": 286
        },
        "outputId": "22e4b35c-455e-44e5-a2b8-8aaba9f14279"
      },
      "source": [
        "df = DataFrame()\n",
        "\n",
        "agent = Agent(shortcut=True, q_plus=False)\n",
        "while True:\n",
        "  trial(agent, planning_steps=40)\n",
        "  if len(agent.rewards) > 6001:\n",
        "    break\n",
        "df['Dyna-Q'] = agent.rewards[:6001]\n",
        "\n",
        "agent = Agent(shortcut=True, q_plus=True)\n",
        "while True:\n",
        "  trial(agent, planning_steps=40)\n",
        "  if len(agent.rewards) > 6001:\n",
        "    break\n",
        "df['Dyna-Q+'] = agent.rewards[:6001]\n",
        "\n",
        "df.plot()"
      ],
      "execution_count": 7,
      "outputs": [
        {
          "output_type": "execute_result",
          "data": {
            "text/plain": [
              "<matplotlib.axes._subplots.AxesSubplot at 0x7fbdb5c95128>"
            ]
          },
          "metadata": {
            "tags": []
          },
          "execution_count": 7
        },
        {
          "output_type": "display_data",
          "data": {
            "image/png": "[encoded data removed]",
            "text/plain": [
              "<Figure size 432x288 with 1 Axes>"
            ]
          },
          "metadata": {
            "tags": []
          }
        }
      ]
    },
    {
      "cell_type": "code",
      "metadata": {
        "id": "7QKf_meGWdoc",
        "colab_type": "code",
        "colab": {
          "base_uri": "https://localhost:8080/",
          "height": 286
        },
        "outputId": "5aec2374-fa2a-45a0-d0dd-4d1e405b955f"
      },
      "source": [
        "df = DataFrame()\n",
        "\n",
        "agent = Agent(shortcut=True, q_plus=True)\n",
        "while True:\n",
        "  trial(agent, planning_steps=40)\n",
        "  if len(agent.rewards) > 10001:\n",
        "    break\n",
        "df['Dyna-Q+'] = agent.rewards[:10001]\n",
        "\n",
        "agent = Agent(shortcut=True, q_plus=False, alternate=True)\n",
        "while True:\n",
        "  trial(agent, planning_steps=40)\n",
        "  if len(agent.rewards) > 10001:\n",
        "    break\n",
        "df['Alternate'] = agent.rewards[:10001]\n",
        "\n",
        "df.plot()"
      ],
      "execution_count": 8,
      "outputs": [
        {
          "output_type": "execute_result",
          "data": {
            "text/plain": [
              "<matplotlib.axes._subplots.AxesSubplot at 0x7fbdb2ad8e80>"
            ]
          },
          "metadata": {
            "tags": []
          },
          "execution_count": 8
        },
        {
          "output_type": "display_data",
          "data": {
            "image/png": "[encoded data removed]",
            "text/plain": [
              "<Figure size 432x288 with 1 Axes>"
            ]
          },
          "metadata": {
            "tags": []
          }
        }
      ]
    }
  ]
}