{
  "nbformat": 4,
  "nbformat_minor": 0,
  "metadata": {
    "colab": {
      "name": "Exercise 8.1: Solution.ipynb",
      "version": "0.3.2",
      "provenance": [],
      "collapsed_sections": [],
      "include_colab_link": true
    },
    "kernelspec": {
      "name": "python3",
      "display_name": "Python 3"
    }
  },
  "cells": [
    {
      "cell_type": "markdown",
      "metadata": {
        "id": "view-in-github",
        "colab_type": "text"
      },
      "source": [
        "<a href=\"https://colab.research.google.com/github/enakai00/rl_book_solutions/blob/master/Chapter08/Exercise_8_1_Solution.ipynb\" target=\"_parent\"><img src=\"https://colab.research.google.com/assets/colab-badge.svg\" alt=\"Open In Colab\"/></a>"
      ]
    },
    {
      "cell_type": "markdown",
      "metadata": {
        "id": "Oq-cT1VHizgz",
        "colab_type": "text"
      },
      "source": [
        "# Exercise 8.1 : Solution"
      ]
    },
    {
      "cell_type": "code",
      "metadata": {
        "id": "MWOOgNK0ygdC",
        "colab_type": "code",
        "colab": {}
      },
      "source": [
        "import numpy as np\n",
        "from numpy import random\n",
        "from pandas import DataFrame"
      ],
      "execution_count": 0,
      "outputs": []
    },
    {
      "cell_type": "code",
      "metadata": {
        "id": "dGGigZaGDLHM",
        "colab_type": "code",
        "colab": {
          "base_uri": "https://localhost:8080/",
          "height": 173
        },
        "outputId": "b29810ad-b16d-4b13-a1eb-93509dd8745e"
      },
      "source": [
        "maze_img = '''\n",
        "###########\n",
        "#       # #\n",
        "#  #    # #\n",
        "#  #    # #\n",
        "#  #      #\n",
        "#     #   #\n",
        "#         #\n",
        "###########\n",
        "'''\n",
        "def get_track(track_img):\n",
        "  x_max = max(map(len, track_img.split('\\n')))\n",
        "  track = []\n",
        "  for line in track_img.split('\\n'):\n",
        "    if line == '':\n",
        "      continue \n",
        "    line += ' ' * x_max\n",
        "    track.append(list(line)[:x_max])\n",
        "\n",
        "  return np.array(track)"
      ],
      "execution_count": 3,
      "outputs": [
        {
          "output_type": "execute_result",
          "data": {
            "text/plain": [
              "array([['#', '#', '#', '#', '#', '#', '#', '#', '#', '#', '#'],\n",
              "       ['#', ' ', ' ', ' ', ' ', ' ', ' ', ' ', '#', ' ', '#'],\n",
              "       ['#', ' ', ' ', '#', ' ', ' ', ' ', ' ', '#', ' ', '#'],\n",
              "       ['#', ' ', ' ', '#', ' ', ' ', ' ', ' ', '#', ' ', '#'],\n",
              "       ['#', ' ', ' ', '#', ' ', ' ', ' ', ' ', ' ', ' ', '#'],\n",
              "       ['#', ' ', ' ', ' ', ' ', ' ', '#', ' ', ' ', ' ', '#'],\n",
              "       ['#', ' ', ' ', ' ', ' ', ' ', ' ', ' ', ' ', ' ', '#'],\n",
              "       ['#', '#', '#', '#', '#', '#', '#', '#', '#', '#', '#']],\n",
              "      dtype='<U1')"
            ]
          },
          "metadata": {
            "tags": []
          },
          "execution_count": 3
        }
      ]
    },
    {
      "cell_type": "code",
      "metadata": {
        "id": "CBHd9TZXzcEo",
        "colab_type": "code",
        "colab": {}
      },
      "source": [
        "class Agent:\n",
        "  def __init__(self, x=1, y=3):\n",
        "    self.path = []\n",
        "    self.actions = [(0, 1), (1, 0), (0, -1), (-1, 0)]\n",
        "    self.q = {}\n",
        "    self.model = {}\n",
        "    self.restart(x, y)\n",
        "    self.maze = get_track(maze_img)\n",
        "\n",
        "  def restart(self, x=1, y=3):\n",
        "    self.x, self.y = x, y\n",
        "    self.path = []\n",
        "    #self.model = {}\n",
        "\n",
        "  def get_state(self):\n",
        "    return self.x, self.y\n",
        "\n",
        "  def show_path(self):\n",
        "    result = self.maze.copy()\n",
        "    for c, (x, y, a) in enumerate(self.path):\n",
        "      result[y][x] = str(c)[-1]\n",
        "    result[1][9] = 'G'\n",
        "    return result     \n",
        "\n",
        "  def move(self, action):\n",
        "    self.path.append((self.x, self.y, action))\n",
        "    sa = \"{:02},{:02}:{:02}\".format(self.x, self.y, action)\n",
        "    vx, vy = self.actions[action]\n",
        "    if self.maze[self.y+vy][self.x+vx] == '#':\n",
        "      vx, vy = 0, 0\n",
        "    self.x += vx\n",
        "    self.y += vy\n",
        "    if (self.x, self.y) == (9, 1): # Finish\n",
        "      self.model[sa] = (1, self.x, self.y)\n",
        "      return True\n",
        "    self.model[sa] = (0, self.x, self.y)\n",
        "    return False"
      ],
      "execution_count": 0,
      "outputs": []
    },
    {
      "cell_type": "code",
      "metadata": {
        "id": "GlaigTQ6LDmt",
        "colab_type": "code",
        "colab": {}
      },
      "source": [
        "q_vals = [2,0,2,1]\n",
        "q_max = np.max(q_vals)\n",
        "candidates = []\n",
        "for i, q in enumerate(q_vals):\n",
        "  if q == q_max:\n",
        "    candidates.append(i)\n",
        "return random.choice(candidates)"
      ],
      "execution_count": 0,
      "outputs": []
    },
    {
      "cell_type": "code",
      "metadata": {
        "id": "6KL6VvpZ8ORG",
        "colab_type": "code",
        "colab": {}
      },
      "source": [
        "def get_action(agent, epsilon):\n",
        "  if random.random() < epsilon:\n",
        "    a = random.randint(0, 4)\n",
        "  else:\n",
        "    a = optimal_action(agent)\n",
        "  return a\n",
        "\n",
        "def optimal_action(agent):\n",
        "  x, y = agent.get_state()\n",
        "  q_vals = []\n",
        "  for a in range(4):\n",
        "    sa = \"{:02},{:02}:{:02}\".format(x, y, a)\n",
        "    if sa not in agent.q.keys():\n",
        "      agent.q[sa] = 0\n",
        "    q_vals.append(agent.q[sa])\n",
        "  q_max = np.max(q_vals)\n",
        "  candidates = []\n",
        "  for i, q in enumerate(q_vals):\n",
        "    if q == q_max:\n",
        "      candidates.append(i)\n",
        "  return random.choice(candidates)\n",
        "\n",
        "def update_q(agent, states, drain=False):\n",
        "  alpha = 0.1\n",
        "  gamma = 0.95\n",
        "  sa1 = states[0]\n",
        "  if sa1 not in agent.q.keys():\n",
        "    agent.q[sa1] = 0\n",
        "\n",
        "  if drain: # Finished\n",
        "    agent.q[sa1] += alpha * (1 + gamma * 0 - agent.q[sa1])\n",
        "    states.pop(0)\n",
        "    if len(states) == 0:\n",
        "      return\n",
        "    update_q(agent, states, drain=True)\n",
        "  else:\n",
        "    x, y = agent.get_state()\n",
        "    a = optimal_action(agent)\n",
        "    sa2 = \"{:02},{:02}:{:02}\".format(x, y, a)\n",
        "    if sa2 not in agent.q.keys():\n",
        "      agent.q[sa2] = 0\n",
        "    agent.q[sa1] += alpha * (0 + gamma * agent.q[sa2] - agent.q[sa1])\n",
        "\n",
        "def trial(agent, epsilon=0.1, steps=5, dyna_q=False, planning_steps=5):\n",
        "  agent.restart()\n",
        "  states = []\n",
        "  x, y = agent.get_state()\n",
        "  \n",
        "  while True:\n",
        "    x, y = agent.get_state()\n",
        "    a = get_action(agent, epsilon)\n",
        "    sa = \"{:02},{:02}:{:02}\".format(x, y, a)\n",
        "    states.append(sa)\n",
        "    finished = agent.move(a)\n",
        "\n",
        "    if finished:\n",
        "      update_q(agent, states, drain=True)\n",
        "      break\n",
        "    if len(states) >= steps:\n",
        "      update_q(agent, states, drain=False)\n",
        "      states.pop(0)\n",
        "\n",
        "    if dyna_q:\n",
        "      for _ in range(planning_steps):\n",
        "        alpha = 0.1\n",
        "        gamma = 0.95\n",
        "        sa1 = np.random.choice(list(agent.model.keys()))\n",
        "        r, x, y = agent.model[sa1]\n",
        "        _x, _y = agent.x, agent.y\n",
        "        agent.x, agent.y = x, y\n",
        "        a = optimal_action(agent)\n",
        "        agent.x, agent.y = _x, _y\n",
        "        sa2 = \"{:02},{:02}:{:02}\".format(x, y, a)\n",
        "        if sa1 not in agent.q.keys():\n",
        "          agent.q[sa1] = 0\n",
        "        if sa2 not in agent.q.keys():\n",
        "          agent.q[sa2] = 0\n",
        "        agent.q[sa1] += alpha * (r + gamma * agent.q[sa2] - agent.q[sa1])"
      ],
      "execution_count": 0,
      "outputs": []
    },
    {
      "cell_type": "markdown",
      "metadata": {
        "id": "cIDyz0CNexWU",
        "colab_type": "text"
      },
      "source": [
        "## Comparing different planning steps for Dyna-Q."
      ]
    },
    {
      "cell_type": "code",
      "metadata": {
        "id": "ODYn0brEbo-2",
        "colab_type": "code",
        "colab": {
          "base_uri": "https://localhost:8080/",
          "height": 286
        },
        "outputId": "3f6fd11e-e4dd-4223-a877-6a3c185460fa"
      },
      "source": [
        "df = DataFrame()\n",
        "\n",
        "results = np.zeros(51)\n",
        "for _ in range(20):\n",
        "  agent = Agent()\n",
        "  result = []\n",
        "  for _ in range(51):\n",
        "    trial(agent, dyna_q=False, steps=1)\n",
        "    result.append(len(agent.path))\n",
        "  results += np.array(result)\n",
        "df['steps=0'] = np.array(results[1:]) / 20\n",
        "\n",
        "for steps in [5, 50]:\n",
        "  results = np.zeros(51)\n",
        "  for _ in range(20):\n",
        "    agent = Agent()\n",
        "    result = []\n",
        "    for _ in range(51):\n",
        "      trial(agent, dyna_q=True, planning_steps=steps)\n",
        "      result.append(len(agent.path))\n",
        "    results += np.array(result)\n",
        "  df['steps={}'.format(steps)] = np.array(results[1:]) / 20\n",
        "\n",
        "df.plot(ylim=(0,800))"
      ],
      "execution_count": 135,
      "outputs": [
        {
          "output_type": "execute_result",
          "data": {
            "text/plain": [
              "<matplotlib.axes._subplots.AxesSubplot at 0x7fc0d7305f98>"
            ]
          },
          "metadata": {
            "tags": []
          },
          "execution_count": 135
        },
        {
          "output_type": "display_data",
          "data": {
            "image/png": "[encoded data removed]",
            "text/plain": [
              "<Figure size 432x288 with 1 Axes>"
            ]
          },
          "metadata": {
            "tags": []
          }
        }
      ]
    },
    {
      "cell_type": "markdown",
      "metadata": {
        "id": "mawG4NE1e4Z1",
        "colab_type": "text"
      },
      "source": [
        "## Show the learned path."
      ]
    },
    {
      "cell_type": "code",
      "metadata": {
        "id": "J7P6PaLmROwP",
        "colab_type": "code",
        "colab": {
          "base_uri": "https://localhost:8080/",
          "height": 155
        },
        "outputId": "33246f5a-0e43-4548-95fb-553a92adebf6"
      },
      "source": [
        "trial(agent, epsilon=0, steps=1)\n",
        "for line in agent.show_path():\n",
        "  print (''.join(line))"
      ],
      "execution_count": 136,
      "outputs": [
        {
          "output_type": "stream",
          "text": [
            "###########\n",
            "#       #G#\n",
            "#  #    #3#\n",
            "#0 #    #2#\n",
            "#12#678901#\n",
            "# 345 #   #\n",
            "#         #\n",
            "###########\n"
          ],
          "name": "stdout"
        }
      ]
    },
    {
      "cell_type": "markdown",
      "metadata": {
        "id": "-HKcYnmwe-Yf",
        "colab_type": "text"
      },
      "source": [
        "## Comparing the different steps for TD(n).\n",
        "\n",
        "TD(5) achieves the best result, but it's still worse than Dyna-Q."
      ]
    },
    {
      "cell_type": "code",
      "metadata": {
        "id": "uPakG6pEd5VW",
        "colab_type": "code",
        "colab": {
          "base_uri": "https://localhost:8080/",
          "height": 286
        },
        "outputId": "8ab231f4-eeaf-43b3-f0d1-859b61fed74f"
      },
      "source": [
        "df = DataFrame()\n",
        "\n",
        "for steps in [1, 5, 10]:\n",
        "  results = np.zeros(51)\n",
        "  for _ in range(20):\n",
        "    agent = Agent()\n",
        "    result = []\n",
        "    for _ in range(51):\n",
        "      trial(agent, dyna_q=False, steps=steps)\n",
        "      result.append(len(agent.path))\n",
        "    results += np.array(result)\n",
        "  df['steps={}'.format(steps)] = np.array(results[1:]) / 20\n",
        "\n",
        "df.plot(ylim=(0,800))"
      ],
      "execution_count": 139,
      "outputs": [
        {
          "output_type": "execute_result",
          "data": {
            "text/plain": [
              "<matplotlib.axes._subplots.AxesSubplot at 0x7fc0d71c1e48>"
            ]
          },
          "metadata": {
            "tags": []
          },
          "execution_count": 139
        },
        {
          "output_type": "display_data",
          "data": {
            "image/png": "[encoded data removed]",
            "text/plain": [
              "<Figure size 432x288 with 1 Axes>"
            ]
          },
          "metadata": {
            "tags": []
          }
        }
      ]
    }
  ]
}